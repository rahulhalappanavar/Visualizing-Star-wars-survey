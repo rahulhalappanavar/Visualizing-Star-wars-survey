{
 "cells": [
  {
   "cell_type": "code",
   "execution_count": 1,
   "metadata": {},
   "outputs": [
    {
     "name": "stdout",
     "output_type": "stream",
     "text": [
      "3289370623    1\n",
      "3290063543    1\n",
      "3289539921    1\n",
      "3290206907    1\n",
      "3291022013    1\n",
      "             ..\n",
      "3289861464    1\n",
      "3289481310    1\n",
      "3290944858    1\n",
      "3288653149    1\n",
      "3289878528    1\n",
      "Name: respondant_id, Length: 1186, dtype: int64\n",
      "Yes     935\n",
      "No      250\n",
      "Yes       1\n",
      "Name: seen_any, dtype: int64\n",
      "Yes     551\n",
      "NaN     350\n",
      "No      283\n",
      "Noo       1\n",
      "Yess      1\n",
      "Name: fan_starwars, dtype: int64\n",
      "Star Wars: Episode I  The Phantom Menace    673\n",
      "NaN                                         513\n",
      "Name: seen_ep1, dtype: int64\n",
      "NaN                                            615\n",
      "Star Wars: Episode II  Attack of the Clones    571\n",
      "Name: seen_ep2, dtype: int64\n",
      "NaN                                            636\n",
      "Star Wars: Episode III  Revenge of the Sith    550\n",
      "Name: seen_ep3, dtype: int64\n",
      "Star Wars: Episode IV  A New Hope    607\n",
      "NaN                                  579\n",
      "Name: seen_ep4, dtype: int64\n",
      "Star Wars: Episode V The Empire Strikes Back    758\n",
      "NaN                                             428\n",
      "Name: seen_ep5, dtype: int64\n",
      "Star Wars: Episode VI Return of the Jedi    738\n",
      "NaN                                         448\n",
      "Name: seen_ep6, dtype: int64\n",
      "NaN    351\n",
      "4.0    237\n",
      "6.0    168\n",
      "3.0    130\n",
      "1.0    129\n",
      "5.0    100\n",
      "2.0     71\n",
      "Name: rate_ep1, dtype: int64\n",
      "NaN    350\n",
      "5.0    300\n",
      "4.0    183\n",
      "2.0    116\n",
      "3.0    103\n",
      "6.0    102\n",
      "1.0     32\n",
      "Name: rate_ep2, dtype: int64\n",
      "NaN    351\n",
      "6.0    217\n",
      "5.0    203\n",
      "4.0    182\n",
      "3.0    150\n",
      "2.0     47\n",
      "1.0     36\n",
      "Name: rate_ep3, dtype: int64\n",
      "NaN    350\n",
      "1.0    204\n",
      "6.0    161\n",
      "2.0    135\n",
      "4.0    130\n",
      "3.0    127\n",
      "5.0     79\n",
      "Name: rate_ep4, dtype: int64\n",
      "NaN    350\n",
      "1.0    289\n",
      "2.0    235\n",
      "5.0    118\n",
      "3.0    106\n",
      "4.0     47\n",
      "6.0     41\n",
      "Name: rate_ep5, dtype: int64\n",
      "NaN    350\n",
      "2.0    232\n",
      "3.0    220\n",
      "1.0    146\n",
      "6.0    145\n",
      "4.0     57\n",
      "5.0     36\n",
      "Name: rate_ep6, dtype: int64\n",
      "Very favorably                                 610\n",
      "NaN                                            357\n",
      "Somewhat favorably                             151\n",
      "Neither favorably nor unfavorably (neutral)     44\n",
      "Unfamiliar (N/A)                                15\n",
      "Somewhat unfavorably                             8\n",
      "Very unfavorably                                 1\n",
      "Name: rate_han, dtype: int64\n",
      "Very favorably                                 552\n",
      "NaN                                            355\n",
      "Somewhat favorably                             219\n",
      "Neither favorably nor unfavorably (neutral)     38\n",
      "Somewhat unfavorably                            13\n",
      "Unfamiliar (N/A)                                 6\n",
      "Very unfavorably                                 3\n",
      "Name: rate_luke, dtype: int64\n",
      "Very favorably                                 547\n",
      "NaN                                            355\n",
      "Somewhat favorably                             210\n",
      "Neither favorably nor unfavorably (neutral)     48\n",
      "Somewhat unfavorably                            12\n",
      "Unfamiliar (N/A)                                 8\n",
      "Very unfavorably                                 6\n",
      "Name: rate_leia, dtype: int64\n",
      "NaN                                            363\n",
      "Somewhat favorably                             269\n",
      "Very favorably                                 245\n",
      "Neither favorably nor unfavorably (neutral)    135\n",
      "Somewhat unfavorably                            83\n",
      "Unfamiliar (N/A)                                52\n",
      "Very unfavorably                                39\n",
      "Name: rate_anakin, dtype: int64\n",
      "Very favorably                                 591\n",
      "NaN                                            361\n",
      "Somewhat favorably                             159\n",
      "Neither favorably nor unfavorably (neutral)     43\n",
      "Unfamiliar (N/A)                                17\n",
      "Somewhat unfavorably                             8\n",
      "Very unfavorably                                 7\n",
      "Name: rate_obi, dtype: int64\n",
      "NaN                                            372\n",
      "Neither favorably nor unfavorably (neutral)    213\n",
      "Unfamiliar (N/A)                               156\n",
      "Somewhat favorably                             143\n",
      "Very unfavorably                               124\n",
      "Very favorably                                 110\n",
      "Somewhat unfavorably                            68\n",
      "Name: rate_palpatine, dtype: int64\n",
      "NaN                                            360\n",
      "Very favorably                                 310\n",
      "Somewhat favorably                             171\n",
      "Very unfavorably                               149\n",
      "Somewhat unfavorably                           102\n",
      "Neither favorably nor unfavorably (neutral)     84\n",
      "Unfamiliar (N/A)                                10\n",
      "Name: rate_darth, dtype: int64\n",
      "NaN                                            366\n",
      "Neither favorably nor unfavorably (neutral)    236\n",
      "Somewhat favorably                             223\n",
      "Unfamiliar (N/A)                               148\n",
      "Very favorably                                 142\n",
      "Somewhat unfavorably                            63\n",
      "Very unfavorably                                 8\n",
      "Name: rate_lando, dtype: int64\n",
      "NaN                                            374\n",
      "Neither favorably nor unfavorably (neutral)    248\n",
      "Somewhat favorably                             153\n",
      "Very favorably                                 138\n",
      "Unfamiliar (N/A)                               132\n",
      "Somewhat unfavorably                            96\n",
      "Very unfavorably                                45\n",
      "Name: rate_boba, dtype: int64\n",
      "Very favorably                                 474\n",
      "NaN                                            359\n",
      "Somewhat favorably                             229\n",
      "Neither favorably nor unfavorably (neutral)     79\n",
      "Somewhat unfavorably                            23\n",
      "Unfamiliar (N/A)                                15\n",
      "Very unfavorably                                 7\n",
      "Name: rate_c3p0, dtype: int64\n",
      "Very favorably                                 562\n",
      "NaN                                            356\n",
      "Somewhat favorably                             185\n",
      "Neither favorably nor unfavorably (neutral)     57\n",
      "Unfamiliar (N/A)                                10\n",
      "Somewhat unfavorably                            10\n",
      "Very unfavorably                                 6\n",
      "Name: rate_r2d2, dtype: int64\n",
      "NaN                                            365\n",
      "Very unfavorably                               204\n",
      "Neither favorably nor unfavorably (neutral)    164\n",
      "Somewhat favorably                             130\n",
      "Very favorably                                 112\n",
      "Unfamiliar (N/A)                               109\n",
      "Somewhat unfavorably                           102\n",
      "Name: rate_binks, dtype: int64\n",
      "NaN                                            372\n",
      "Neither favorably nor unfavorably (neutral)    207\n",
      "Somewhat favorably                             183\n",
      "Very favorably                                 168\n",
      "Unfamiliar (N/A)                               164\n",
      "Somewhat unfavorably                            58\n",
      "Very unfavorably                                34\n",
      "Name: rate_amidala, dtype: int64\n",
      "Very favorably                                 605\n",
      "NaN                                            360\n",
      "Somewhat favorably                             144\n",
      "Neither favorably nor unfavorably (neutral)     51\n",
      "Unfamiliar (N/A)                                10\n",
      "Very unfavorably                                 8\n",
      "Somewhat unfavorably                             8\n",
      "Name: rate_yoda, dtype: int64\n",
      "NaN                                 358\n",
      "Han                                 325\n",
      "I don't understand this question    306\n",
      "Greedo                              197\n",
      "Name: who_shot_first, dtype: int64\n",
      "No     615\n",
      "NaN    358\n",
      "Yes    213\n",
      "Name: exp_uni, dtype: int64\n",
      "NaN     973\n",
      "No      114\n",
      "Yes      98\n",
      "Yess      1\n",
      "Name: fan_exp_uni, dtype: int64\n",
      "No     639\n",
      "Yes    426\n",
      "NaN    118\n",
      "Noo      1\n",
      "yes      1\n",
      "no       1\n",
      "Name: fan_startrek, dtype: int64\n",
      "Female    546\n",
      "Male      496\n",
      "NaN       140\n",
      "female      2\n",
      "F           1\n",
      "male        1\n",
      "Name: gender, dtype: int64\n",
      "45-60    291\n",
      "> 60     269\n",
      "30-44    268\n",
      "18-29    217\n",
      "NaN      140\n",
      "500        1\n",
      "Name: age, dtype: int64\n",
      "NaN                    328\n",
      "$50,000 - $99,999      298\n",
      "$25,000 - $49,999      186\n",
      "$100,000 - $149,999    141\n",
      "$0 - $24,999           138\n",
      "$150,000+               95\n",
      "Name: income, dtype: int64\n",
      "Some college or Associate degree    328\n",
      "Bachelor degree                     321\n",
      "Graduate degree                     275\n",
      "NaN                                 150\n",
      "High school degree                  105\n",
      "Less than high school degree          7\n",
      "Name: education, dtype: int64\n",
      "East North Central    181\n",
      "Pacific               175\n",
      "South Atlantic        170\n",
      "NaN                   143\n",
      "Middle Atlantic       122\n",
      "West South Central    110\n",
      "West North Central     93\n",
      "Mountain               79\n",
      "New England            75\n",
      "East South Central     38\n",
      "Name: location, dtype: int64\n"
     ]
    }
   ],
   "source": [
    "#Task 1: Data Preparation\n",
    "# \"You will start by loading the CSV data from the file (using appropriate pandas functions) and checking whether the loaded data is equivalent to the data in the source CSV file.\n",
    "# Then, you need to clean the data by using the knowledge we taught in the lectures. You need to deal with all the potential issues/errors in the data appropriately (such as: typos, extra whitespaces, sanity checks for impossible values, and missing values etc). \"\n",
    "# Please structure code as follows: \n",
    "# Always provide one line of comments to explain the purpose of the code, e.g. load the data, checking the equivalent to original data, checking typos (do this for each other types of errors)\n",
    "\n",
    "# Code goes after this line by adding cells\n",
    "\n",
    "\n",
    "#Import the pandas and numpy library\n",
    "import pandas as pd\n",
    "import numpy as np\n",
    "\n",
    "#Task 1.1:Data Retrieving\n",
    "#Load the csv file in the dataframe\n",
    "#Change the headers to much easier names and start the data by skiping the starting 2 unwanted rows\n",
    "data_file=\"StarWars.csv\"\n",
    "starwars=pd.read_csv(data_file,skiprows=2,sep=',', header= None, names=[\"respondant_id\",\"seen_any\",\"fan_starwars\",\"seen_ep1\",\"seen_ep2\",\"seen_ep3\",\"seen_ep4\",\"seen_ep5\",\"seen_ep6\",\"rate_ep1\",\"rate_ep2\",\"rate_ep3\",\"rate_ep4\",\"rate_ep5\",\"rate_ep6\",\"rate_han\",\"rate_luke\",\"rate_leia\",\"rate_anakin\",\"rate_obi\",\"rate_palpatine\",\"rate_darth\",\"rate_lando\",\"rate_boba\",\"rate_c3p0\",\"rate_r2d2\",\"rate_binks\",\"rate_amidala\",\"rate_yoda\",\"who_shot_first\",\"exp_uni\",\"fan_exp_uni\",\"fan_startrek\",\"gender\",\"age\",\"income\",\"education\",\"location\"])\n",
    "\n",
    "#Check value counts of each column for finding possible errors in the data.\n",
    "for i in starwars.columns:\n",
    "     print(starwars[i].value_counts(dropna=False))  \n"
   ]
  },
  {
   "cell_type": "code",
   "execution_count": 2,
   "metadata": {
    "scrolled": true
   },
   "outputs": [],
   "source": [
    "#Task 1.2: Correcting data types\n",
    "mapping = {\n",
    "    \"Star Wars: Episode I  The Phantom Menace\": \"Yes\",\n",
    "    \"Star Wars: Episode II  Attack of the Clones\": \"Yes\",\n",
    "    \"Star Wars: Episode III  Revenge of the Sith\": \"Yes\",\n",
    "    \"Star Wars: Episode IV  A New Hope\": \"Yes\",\n",
    "    \"Star Wars: Episode V The Empire Strikes Back\": \"Yes\",\n",
    "    \"Star Wars: Episode VI Return of the Jedi\": \"Yes\",\n",
    "}\n",
    "for i in starwars.columns[3:9]:\n",
    "    starwars[i] = starwars[i].map(mapping)"
   ]
  },
  {
   "cell_type": "code",
   "execution_count": 3,
   "metadata": {},
   "outputs": [],
   "source": [
    "#Task 1.3: Typos\n",
    "starwars[\"fan_starwars\"].replace({\"Noo\": \"No\", \"Yess\": \"Yes\"}, inplace=True)\n",
    "starwars[\"fan_exp_uni\"].replace({\"Yess\": \"Yes\"}, inplace=True)\n",
    "starwars[\"fan_startrek\"].replace({\"Noo\": \"No\"}, inplace=True)\n",
    "starwars[\"gender\"].replace({\"F\":\"Female\"},inplace=True)"
   ]
  },
  {
   "cell_type": "code",
   "execution_count": 4,
   "metadata": {},
   "outputs": [],
   "source": [
    "#Task 1.4: Extra-whitespaces\n",
    "starwars[\"seen_any\"] = starwars[\"seen_any\"].str.strip()"
   ]
  },
  {
   "cell_type": "code",
   "execution_count": 5,
   "metadata": {},
   "outputs": [],
   "source": [
    "#Task 1.5: Upper/Lower-case\n",
    "starwars[\"gender\"].replace({\"female\":\"Female\",\"male\":\"Male\"},inplace=True)\n",
    "starwars[\"fan_startrek\"].replace({\"yes\": \"Yes\",\"no\":\"No\"}, inplace=True)"
   ]
  },
  {
   "cell_type": "code",
   "execution_count": 6,
   "metadata": {},
   "outputs": [],
   "source": [
    "#Task 1.6: Sanity checks\n",
    "starwars[\"age\"].replace({\"500\":starwars[\"age\"].mode()[0]},inplace=True)"
   ]
  },
  {
   "cell_type": "code",
   "execution_count": 7,
   "metadata": {},
   "outputs": [],
   "source": [
    "#Task 1.7 : Missing values\n",
    "\n",
    "#Drop rows who have 35 or more null values as they do no contribute any information to the objective of task 2\n",
    "#Create a duplicate dataframe called copy so that the original is not affected\n",
    "copy=starwars           \n",
    "df=copy.isnull().sum(axis=1)\n",
    "index1=df[df>34].index\n",
    "copy.drop(index1,inplace=True)\n",
    "\n",
    "#Null values from fan_stawars to seen_ep6\n",
    "for i in copy.columns[2:9]:\n",
    "    copy[i] = copy[i].fillna('No')\n",
    "    copy.loc[copy['seen_any'] == 'No', i] = \"Not seen starwars\""
   ]
  },
  {
   "cell_type": "code",
   "execution_count": 8,
   "metadata": {},
   "outputs": [],
   "source": [
    "#Null Values from rate_ep1 to rate_ep6\n",
    "for i in copy.columns[9:15]:\n",
    "    copy[i].fillna(copy[i].mode()[0], inplace=True)\n",
    "    copy.loc[copy['seen_any'] == 'No', i] = \"Not seen starwars\""
   ]
  },
  {
   "cell_type": "code",
   "execution_count": 9,
   "metadata": {},
   "outputs": [],
   "source": [
    "#Null values from rate_han to rate_yoda\n",
    "for i in copy.columns[15:29]:\n",
    "    copy[i].fillna(copy[i].mode()[0], inplace=True)\n",
    "    copy.loc[copy['seen_any'] == 'No', i] = \"Not seen starwars\""
   ]
  },
  {
   "cell_type": "code",
   "execution_count": 10,
   "metadata": {},
   "outputs": [],
   "source": [
    "#Null values of who_shot_first\n",
    "copy.loc[copy['seen_any'] == 'No', 'who_shot_first'] = \"Not seen starwars\"\n",
    "copy[\"who_shot_first\"].fillna(\"I don't understand this question\", inplace=True)\n",
    "\n",
    "#Null Values of exp_uni\n",
    "copy.loc[copy['seen_any'] == 'No', 'exp_uni'] = \"Not seen starwars\"\n",
    "copy[\"exp_uni\"].fillna(\"No\", inplace=True)\n",
    "\n",
    "#Null Valuse of fan_exp_uni\n",
    "copy.loc[copy['seen_any'] == 'No', 'fan_exp_uni'] = \"Not seen starwars\"\n",
    "copy[\"fan_exp_uni\"].fillna(\"No\", inplace=True)\n",
    "\n",
    "#Null values of fan_startrek\n",
    "copy[\"fan_startrek\"].fillna(\"No\", inplace=True)\n"
   ]
  },
  {
   "cell_type": "code",
   "execution_count": 11,
   "metadata": {},
   "outputs": [],
   "source": [
    "#Null Values of demographics\n",
    "for i in copy.columns[33:38]:\n",
    "    copy[i].fillna(\"Not Answered\", inplace=True)"
   ]
  },
  {
   "cell_type": "code",
   "execution_count": 12,
   "metadata": {},
   "outputs": [],
   "source": [
    "#Final Clean Data\n",
    "copy.to_csv(\"final.csv\",index=0)"
   ]
  },
  {
   "cell_type": "code",
   "execution_count": 13,
   "metadata": {},
   "outputs": [
    {
     "data": {
      "text/plain": [
       "respondant_id     0\n",
       "seen_any          0\n",
       "fan_starwars      0\n",
       "seen_ep1          0\n",
       "seen_ep2          0\n",
       "seen_ep3          0\n",
       "seen_ep4          0\n",
       "seen_ep5          0\n",
       "seen_ep6          0\n",
       "rate_ep1          0\n",
       "rate_ep2          0\n",
       "rate_ep3          0\n",
       "rate_ep4          0\n",
       "rate_ep5          0\n",
       "rate_ep6          0\n",
       "rate_han          0\n",
       "rate_luke         0\n",
       "rate_leia         0\n",
       "rate_anakin       0\n",
       "rate_obi          0\n",
       "rate_palpatine    0\n",
       "rate_darth        0\n",
       "rate_lando        0\n",
       "rate_boba         0\n",
       "rate_c3p0         0\n",
       "rate_r2d2         0\n",
       "rate_binks        0\n",
       "rate_amidala      0\n",
       "rate_yoda         0\n",
       "who_shot_first    0\n",
       "exp_uni           0\n",
       "fan_exp_uni       0\n",
       "fan_startrek      0\n",
       "gender            0\n",
       "age               0\n",
       "income            0\n",
       "education         0\n",
       "location          0\n",
       "dtype: int64"
      ]
     },
     "execution_count": 13,
     "metadata": {},
     "output_type": "execute_result"
    }
   ],
   "source": [
    "#Final check for null values\n",
    "copy.isna().sum()"
   ]
  },
  {
   "cell_type": "code",
   "execution_count": 14,
   "metadata": {},
   "outputs": [
    {
     "data": {
      "image/png": "[encoded data removed]",
      "text/plain": [
       "<Figure size 432x288 with 1 Axes>"
      ]
     },
     "metadata": {
      "needs_background": "light"
     },
     "output_type": "display_data"
    }
   ],
   "source": [
    "# Task 2: Data Exploration\n",
    "# 1. Explore the survey question: {Please rank the Star Wars films in order of preference with 1 being your favorite film in the franchise and 6 being your least favorite film.\t(Star Wars: Episode I  The Phantom Menace; Star Wars: Episode II  Attack of the Clones; Star Wars: Episode III  Revenge of the Sith;\tStar Wars: Episode IV  A New Hope; Star Wars: Episode V The Empire Strikes Back; Star Wars: Episode VI Return of the Jedi)}, then analysis how people rate Star Wars Movies. \n",
    "#Code goes after this line by adding cells\n",
    "\n",
    "import matplotlib.pyplot as plt\n",
    "from matplotlib.pyplot import figure\n",
    "\n",
    "\n",
    "#Plotting Average rating of all movies\n",
    "df = copy.query('rate_ep1 != \\'Not seen starwars\\' & rate_ep2 != \\'Not seen starwars\\' & rate_ep3 != \\'Not seen starwars\\' & rate_ep4 != \\'Not seen starwars\\' & rate_ep5 != \\'Not seen starwars\\' & rate_ep6 != \\'Not seen starwars\\' ')\n",
    "mean1 = df[df.columns[9:15]].mean()\n",
    "plt.bar(range(1,7), mean1, color='g')\n",
    "plt.xlabel(\"Film Number\")\n",
    "plt.ylabel(\"Average Rating\")\n",
    "plt.title(\"Average rating of all movies\")\n",
    "plt.show()\n"
   ]
  },
  {
   "cell_type": "code",
   "execution_count": 15,
   "metadata": {},
   "outputs": [
    {
     "data": {
      "text/plain": [
       "Text(0.5, 1.0, 'Percentage of people rating for Episode 1')"
      ]
     },
     "execution_count": 15,
     "metadata": {},
     "output_type": "execute_result"
    },
    {
     "data": {
      "image/png": "[encoded data removed]",
      "text/plain": [
       "<Figure size 432x288 with 1 Axes>"
      ]
     },
     "metadata": {
      "needs_background": "light"
     },
     "output_type": "display_data"
    }
   ],
   "source": [
    "#Dataframe of people who have seen all the starwars movie.\n",
    "sw = copy.query('seen_ep1 == \\'Yes\\' & seen_ep2 == \\'Yes\\' & seen_ep3 == \\'Yes\\'& seen_ep4 == \\'Yes\\' & seen_ep5 == \\'Yes\\' & seen_ep6 == \\'Yes\\'')\n",
    "\n",
    "#Plotting Perrcentage Bar Graph Rating of Episode 1\n",
    "ep1_counts=sw[\"rate_ep1\"].value_counts()\n",
    "per_ep1=[ep1_counts[1.0]*100/471,ep1_counts[2.0]*100/471,ep1_counts[3.0]*100/471,ep1_counts[4.0]*100/471,ep1_counts[5.0]*100/471,ep1_counts[6.0]*100/471]\n",
    "plt.bar(list(range(6)),per_ep1,color='g',align='center')\n",
    "plt.xticks(list(range(6)),['1.0','2.0','3.0','4.0','5.0','6.0'])\n",
    "plt.xlabel('Rating')\n",
    "plt.ylabel('Percentage of people')\n",
    "plt.title('Percentage of people rating for Episode 1')"
   ]
  },
  {
   "cell_type": "code",
   "execution_count": 16,
   "metadata": {},
   "outputs": [
    {
     "data": {
      "text/plain": [
       "Text(0.5, 1.0, 'Percentage of people rating for Episode 2')"
      ]
     },
     "execution_count": 16,
     "metadata": {},
     "output_type": "execute_result"
    },
    {
     "data": {
      "image/png": "[encoded data removed]",
      "text/plain": [
       "<Figure size 432x288 with 1 Axes>"
      ]
     },
     "metadata": {
      "needs_background": "light"
     },
     "output_type": "display_data"
    }
   ],
   "source": [
    "#Plotting Perrcentage Bar Graph Rating of Episode 2\n",
    "ep2_counts=sw[\"rate_ep2\"].value_counts()\n",
    "per_ep2=[ep2_counts[1.0]*100/471,ep2_counts[2.0]*100/471,ep2_counts[3.0]*100/471,ep2_counts[4.0]*100/471,ep2_counts[5.0]*100/471,ep2_counts[6.0]*100/471]\n",
    "plt.bar(list(range(6)),per_ep2,color='g',align='center')\n",
    "plt.xticks(list(range(6)),['1.0','2.0','3.0','4.0','5.0','6.0'])\n",
    "plt.xlabel('Rating')\n",
    "plt.ylabel('Percentage of people')\n",
    "plt.title('Percentage of people rating for Episode 2')"
   ]
  },
  {
   "cell_type": "code",
   "execution_count": 17,
   "metadata": {
    "scrolled": true
   },
   "outputs": [
    {
     "data": {
      "text/plain": [
       "Text(0.5, 1.0, 'Percentage of people rating for Episode 3')"
      ]
     },
     "execution_count": 17,
     "metadata": {},
     "output_type": "execute_result"
    },
    {
     "data": {
      "image/png": "[encoded data removed]",
      "text/plain": [
       "<Figure size 432x288 with 1 Axes>"
      ]
     },
     "metadata": {
      "needs_background": "light"
     },
     "output_type": "display_data"
    }
   ],
   "source": [
    "#Plotting Perrcentage Bar Graph Rating of Episode 3\n",
    "ep3_counts=sw[\"rate_ep3\"].value_counts()\n",
    "per_ep3=[ep3_counts[1.0]*100/471,ep3_counts[2.0]*100/471,ep3_counts[3.0]*100/471,ep3_counts[4.0]*100/471,ep3_counts[5.0]*100/471,ep3_counts[6.0]*100/471]\n",
    "plt.bar(list(range(6)),per_ep3,color='g',align='center')\n",
    "plt.xticks(list(range(6)),['1.0','2.0','3.0','4.0','5.0','6.0'])\n",
    "plt.xlabel('Rating')\n",
    "plt.ylabel('Percentage of people')\n",
    "plt.title('Percentage of people rating for Episode 3')"
   ]
  },
  {
   "cell_type": "code",
   "execution_count": 18,
   "metadata": {},
   "outputs": [
    {
     "data": {
      "text/plain": [
       "Text(0.5, 1.0, 'Percentage of people rating for Episode 4')"
      ]
     },
     "execution_count": 18,
     "metadata": {},
     "output_type": "execute_result"
    },
    {
     "data": {
      "image/png": "[encoded data removed]",
      "text/plain": [
       "<Figure size 432x288 with 1 Axes>"
      ]
     },
     "metadata": {
      "needs_background": "light"
     },
     "output_type": "display_data"
    }
   ],
   "source": [
    "#Plotting Perrcentage Bar Graph Rating of Episode 4\n",
    "ep4_counts=sw[\"rate_ep4\"].value_counts()\n",
    "per_ep4=[ep4_counts[1.0]*100/471,ep4_counts[2.0]*100/471,ep4_counts[3.0]*100/471,ep4_counts[4.0]*100/471,ep4_counts[5.0]*100/471,ep4_counts[6.0]*100/471]\n",
    "plt.bar(list(range(6)),per_ep4,color='g',align='center')\n",
    "plt.xticks(list(range(6)),['1.0','2.0','3.0','4.0','5.0','6.0'])\n",
    "plt.xlabel('Rating')\n",
    "plt.ylabel('Percentage of people')\n",
    "plt.title('Percentage of people rating for Episode 4')"
   ]
  },
  {
   "cell_type": "code",
   "execution_count": 19,
   "metadata": {},
   "outputs": [
    {
     "data": {
      "text/plain": [
       "Text(0.5, 1.0, 'Percentage of people rating for Episode 5')"
      ]
     },
     "execution_count": 19,
     "metadata": {},
     "output_type": "execute_result"
    },
    {
     "data": {
      "image/png": "[encoded data removed]",
      "text/plain": [
       "<Figure size 432x288 with 1 Axes>"
      ]
     },
     "metadata": {
      "needs_background": "light"
     },
     "output_type": "display_data"
    }
   ],
   "source": [
    "#Plotting Perrcentage Bar Graph Rating of Episode 5\n",
    "ep5_counts=sw[\"rate_ep5\"].value_counts()\n",
    "per_ep5=[ep5_counts[1.0]*100/471,ep5_counts[2.0]*100/471,ep5_counts[3.0]*100/471,ep5_counts[4.0]*100/471,ep5_counts[5.0]*100/471,ep5_counts[6.0]*100/471]\n",
    "plt.bar(list(range(6)),per_ep5,color='g',align='center')\n",
    "plt.xticks(list(range(6)),['1.0','2.0','3.0','4.0','5.0','6.0'])\n",
    "plt.xlabel('Rating')\n",
    "plt.ylabel('Percentage of people')\n",
    "plt.title('Percentage of people rating for Episode 5')"
   ]
  },
  {
   "cell_type": "code",
   "execution_count": 20,
   "metadata": {},
   "outputs": [
    {
     "data": {
      "text/plain": [
       "Text(0.5, 1.0, 'Percentage of people rating for Episode 6')"
      ]
     },
     "execution_count": 20,
     "metadata": {},
     "output_type": "execute_result"
    },
    {
     "data": {
      "image/png": "[encoded data removed]",
      "text/plain": [
       "<Figure size 432x288 with 1 Axes>"
      ]
     },
     "metadata": {
      "needs_background": "light"
     },
     "output_type": "display_data"
    }
   ],
   "source": [
    "#Plotting Perrcentage Bar Graph Rating of Episode 6\n",
    "ep6_counts=sw[\"rate_ep6\"].value_counts()\n",
    "per_ep6=[ep6_counts[1.0]*100/471,ep6_counts[2.0]*100/471,ep6_counts[3.0]*100/471,ep6_counts[4.0]*100/471,ep6_counts[5.0]*100/471,ep6_counts[6.0]*100/471]\n",
    "plt.bar(list(range(6)),per_ep6,color='g',align='center')\n",
    "plt.xticks(list(range(6)),['1.0','2.0','3.0','4.0','5.0','6.0'])\n",
    "plt.xlabel('Rating')\n",
    "plt.ylabel('Percentage of people')\n",
    "plt.title('Percentage of people rating for Episode 6')"
   ]
  },
  {
   "cell_type": "code",
   "execution_count": 21,
   "metadata": {},
   "outputs": [
    {
     "data": {
      "text/plain": [
       "Text(0.5, 1.0, 'Percentage of fans VS Sex')"
      ]
     },
     "execution_count": 21,
     "metadata": {},
     "output_type": "execute_result"
    },
    {
     "data": {
      "image/png": "[encoded data removed]",
      "text/plain": [
       "<Figure size 432x288 with 1 Axes>"
      ]
     },
     "metadata": {
      "needs_background": "light"
     },
     "output_type": "display_data"
    }
   ],
   "source": [
    "# Task 2: Data Exploration\n",
    "# 2. Explore the relationships between columns; at least 3 visualisations with plausible hypothesis\n",
    "\n",
    "#Code goes after this line by adding cells\n",
    "\n",
    "#Plotting Sex VS Fan of starwars\n",
    "sex_counts=copy[\"gender\"].value_counts()\n",
    "mask_female=copy[\"gender\"]=='Female'\n",
    "mask_male=copy[\"gender\"]=='Male'\n",
    "\n",
    "f_fan= copy.loc[mask_female,'fan_starwars'].value_counts()\n",
    "m_fan= copy.loc[mask_male,'fan_starwars'].value_counts()\n",
    "rate=[f_fan[0]*100/float(f_fan[0]+f_fan[1]+m_fan[0]+m_fan[1]),m_fan[0]*100/float(m_fan[0]+m_fan[1]+f_fan[0]+f_fan[1])]\n",
    "plt.bar(list(range(2)),rate,color='g',align='center')\n",
    "plt.xticks(list(range(2)),['Female','Male'])\n",
    "plt.xlabel('Sex')\n",
    "plt.ylabel('Percentage Of fans')\n",
    "plt.title('Percentage of fans VS Sex')"
   ]
  },
  {
   "cell_type": "code",
   "execution_count": 22,
   "metadata": {},
   "outputs": [
    {
     "data": {
      "text/plain": [
       "Text(0, 0.5, 'Number of seen')"
      ]
     },
     "execution_count": 22,
     "metadata": {},
     "output_type": "execute_result"
    },
    {
     "data": {
      "image/png": "[encoded data removed]",
      "text/plain": [
       "<Figure size 432x288 with 1 Axes>"
      ]
     },
     "metadata": {
      "needs_background": "light"
     },
     "output_type": "display_data"
    }
   ],
   "source": [
    "#Plotting Age VS Seen any of the moive\n",
    "\n",
    "age_counts=copy[\"age\"].value_counts()\n",
    "mask_18to29=copy[\"age\"]=='18-29'\n",
    "mask_30to44=copy[\"age\"]=='30-44'\n",
    "mask_45to60=copy[\"age\"]=='45-60'\n",
    "mask_60ormore=copy[\"age\"]=='> 60'\n",
    "\n",
    "seen_18to29= copy.loc[mask_18to29,'seen_any'].value_counts()\n",
    "seen_30to44= copy.loc[mask_30to44,'seen_any'].value_counts()\n",
    "seen_45to60= copy.loc[mask_45to60,'seen_any'].value_counts()\n",
    "seen_60ormore= copy.loc[mask_60ormore,'seen_any'].value_counts()\n",
    "\n",
    "rate=[seen_18to29[0],seen_30to44[0],seen_45to60[0],seen_60ormore[0]]\n",
    "plt.bar(list(range(4)),rate,color='g',align='center')\n",
    "plt.xticks(list(range(4)),['18-29','30-44','45-60','> 60'])\n",
    "plt.xlabel('Age')\n",
    "plt.ylabel('Number of seen')\n"
   ]
  },
  {
   "cell_type": "code",
   "execution_count": 23,
   "metadata": {},
   "outputs": [
    {
     "data": {
      "text/plain": [
       "Text(0, 0.5, 'Number of fans')"
      ]
     },
     "execution_count": 23,
     "metadata": {},
     "output_type": "execute_result"
    },
    {
     "data": {
      "image/png": "[encoded data removed]",
      "text/plain": [
       "<Figure size 432x288 with 1 Axes>"
      ]
     },
     "metadata": {
      "needs_background": "light"
     },
     "output_type": "display_data"
    }
   ],
   "source": [
    "#Plotting people who are fan of star wars and fan of star trek\n",
    "\n",
    "fan_startrek_counts=copy[\"fan_startrek\"].value_counts()\n",
    "\n",
    "mask_fan_startrek=copy[\"fan_startrek\"]=='Yes'\n",
    "mask_not_fan_startrek=copy[\"fan_startrek\"]=='No'\n",
    "\n",
    "fan_starwars_startrek= copy.loc[mask_fan_startrek,'fan_starwars'].value_counts()\n",
    "fan_starwars_not_startrek= copy.loc[mask_not_fan_startrek,'fan_starwars'].value_counts()\n",
    "\n",
    "count_fans=[fan_starwars_startrek['Yes'],fan_starwars_not_startrek['Yes']]\n",
    "plt.bar(list(range(2)),count_fans,color='g',align='center')\n",
    "plt.xticks(list(range(2)),['Fan of starwars and startrek','Fan of only starwars'])\n",
    "plt.ylabel('Number of fans')"
   ]
  },
  {
   "cell_type": "code",
   "execution_count": 24,
   "metadata": {},
   "outputs": [
    {
     "data": {
      "text/plain": [
       "Text(0.5, 1.0, 'Male VS Darth Vader character rating')"
      ]
     },
     "execution_count": 24,
     "metadata": {},
     "output_type": "execute_result"
    },
    {
     "data": {
      "image/png": "[encoded data removed]",
      "text/plain": [
       "<Figure size 1440x720 with 1 Axes>"
      ]
     },
     "metadata": {
      "needs_background": "light"
     },
     "output_type": "display_data"
    }
   ],
   "source": [
    "# Task 2: Data Exploration\n",
    "# 3. Explore whether there are relationship between people's demographics (Gender, Age, Household Income, Education, Location) and their attitude to Start War characters. \n",
    "\n",
    "#Code goes after this line by adding cells\n",
    "\n",
    "#Gender VS Darth Vader Rating\n",
    "\n",
    "darth_vf_mask = copy[\"rate_darth\"]== 'Very favorably'\n",
    "darth_sf_mask = copy[\"rate_darth\"]== 'Somewhat favorably'\n",
    "darth_nf_mask = copy[\"rate_darth\"]== 'Neither favorably nor unfavorably (neutral)'\n",
    "darth_su_mask = copy[\"rate_darth\"]== 'Somewhat unfavorably'\n",
    "darth_vu_mask = copy[\"rate_darth\"]== 'Very unfavorably'\n",
    "darth_uf_mask = copy[\"rate_darth\"]== 'Unfamiliar (N/A)'\n",
    "\n",
    "darth_vf = copy.loc[darth_vf_mask,'gender'].value_counts()\n",
    "darth_sf = copy.loc[darth_sf_mask,'gender'].value_counts()\n",
    "darth_nf = copy.loc[darth_nf_mask,'gender'].value_counts()\n",
    "darth_su = copy.loc[darth_su_mask,'gender'].value_counts()\n",
    "darth_vu = copy.loc[darth_vu_mask,'gender'].value_counts()\n",
    "darth_uf = copy.loc[darth_uf_mask,'gender'].value_counts()\n",
    "\n",
    "#Male rating darth vader\n",
    "\n",
    "rate2 = [darth_vf[\"Male\"], darth_sf[\"Male\"], darth_nf[\"Male\"], darth_su[\"Male\"],darth_vu[\"Male\"], darth_uf[\"Male\"]]\n",
    "plt.figure(figsize=(20,10))\n",
    "plt.bar(list(range(6)), rate2, color='g', align='center')\n",
    "plt.xticks(list(range(6)),['Very favorably','Somewhat favorably','Neutral','Somewhat unfavorably','Very Unfavorably','Unfamiliar'])\n",
    "plt.xlabel(' Character Rating')\n",
    "plt.ylabel('Number of people')\n",
    "plt.title('Male VS Darth Vader character rating')"
   ]
  },
  {
   "cell_type": "code",
   "execution_count": 25,
   "metadata": {},
   "outputs": [
    {
     "data": {
      "text/plain": [
       "Text(0.5, 1.0, 'Female VS Darth Vader character rating')"
      ]
     },
     "execution_count": 25,
     "metadata": {},
     "output_type": "execute_result"
    },
    {
     "data": {
      "image/png": "[encoded data removed]",
      "text/plain": [
       "<Figure size 1440x720 with 1 Axes>"
      ]
     },
     "metadata": {
      "needs_background": "light"
     },
     "output_type": "display_data"
    }
   ],
   "source": [
    "#Female rating darth vader\n",
    "\n",
    "rate3 = [darth_vf[\"Female\"], darth_sf[\"Female\"], darth_nf[\"Female\"], darth_su[\"Female\"],darth_vu[\"Female\"], darth_uf[\"Female\"]]\n",
    "plt.figure(figsize=(20,10))\n",
    "plt.bar(list(range(6)), rate3, color='g', align='center')\n",
    "plt.xticks(list(range(6)),['Very favorably','Somewhat favorably','Neutral','Somewhat unfavorably','Very Unfavorably','Unfamiliar'])\n",
    "plt.xlabel(' Character Rating')\n",
    "plt.ylabel('Number of people')\n",
    "plt.title('Female VS Darth Vader character rating')"
   ]
  }
 ],
 "metadata": {
  "kernelspec": {
   "display_name": "Python 3",
   "language": "python",
   "name": "python3"
  },
  "language_info": {
   "codemirror_mode": {
    "name": "ipython",
    "version": 3
   },
   "file_extension": ".py",
   "mimetype": "text/x-python",
   "name": "python",
   "nbconvert_exporter": "python",
   "pygments_lexer": "ipython3",
   "version": "3.7.6"
  }
 },
 "nbformat": 4,
 "nbformat_minor": 4
}
